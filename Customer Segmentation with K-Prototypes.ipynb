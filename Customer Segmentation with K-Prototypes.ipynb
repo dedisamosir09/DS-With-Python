{
 "cells": [
  {
   "cell_type": "markdown",
   "id": "ccb0b99e",
   "metadata": {},
   "source": [
    "### Introduction\n",
    "Every company is trying to get to know its customers better. The goal is that companies can make marketing strategies that are more appropriate and efficient for each customer. The goal of this task is using machine learning to create a model that can Clustering types of consumers. <br>\n",
    "`Data get from : https://storage.googleapis.com/dqlab-dataset/customer_segments.txt`"
   ]
  },
  {
   "cell_type": "markdown",
   "id": "92139d66",
   "metadata": {},
   "source": [
    "### Tabel of Content\n",
    "1. Data Loading\n",
    "2. Data Exploration\n",
    "3. Data Preparation\n",
    "4. Modelling\n",
    "5. Deploymeny Models"
   ]
  },
  {
   "cell_type": "markdown",
   "id": "45d1d92c",
   "metadata": {},
   "source": [
    "### Input Variable\n",
    "`Customer ID`: Customer code with mixed text format CUST- followed by a number <br>\n",
    "`Customer Name`: The name of the customer in text format of course <br>\n",
    "`Gender`: The gender of the customer, there are only two data content categories, namely Male and Female <br>\n",
    "`Age`: Age of the customer in numeric format <br>\n",
    "`Profession`: The profession of the customer, also in the type of category text consisting of Entrepreneur, Student, `Professional`, Housewife, and Student. <br>\n",
    "`Resident Type`: The type of residence of our customers, for this dataset there are only two categories: Cluster and Sector. <br>\n",
    "`Annual Spending Value`: Represents the total expenditure that has been issued by the customer. <br>"
   ]
  },
  {
   "cell_type": "markdown",
   "id": "31633afa",
   "metadata": {},
   "source": [
    "### Import Library"
   ]
  },
  {
   "cell_type": "code",
   "execution_count": 29,
   "id": "f4308c9d",
   "metadata": {},
   "outputs": [],
   "source": [
    "import pandas as pd\n",
    "import matplotlib.pyplot as plt\n",
    "import seaborn as sns\n",
    "from sklearn.preprocessing import LabelEncoder\n",
    "from kmodes.kmodes import KModes\n",
    "from kmodes.kprototypes import KPrototypes\n",
    "import pickle\n",
    "from pathlib import Path\n",
    "import warnings\n",
    "warnings.filterwarnings('ignore')"
   ]
  },
  {
   "cell_type": "markdown",
   "id": "4efcf32c",
   "metadata": {},
   "source": [
    "### Import Data Set"
   ]
  },
  {
   "cell_type": "code",
   "execution_count": 30,
   "id": "db0c76fb",
   "metadata": {},
   "outputs": [],
   "source": [
    "#import dataset  \n",
    "customer_df = pd.read_csv(\"https://storage.googleapis.com/dqlab-dataset/customer_segments.txt\", sep=\"\\t\")  "
   ]
  },
  {
   "cell_type": "code",
   "execution_count": 31,
   "id": "f2e514b7",
   "metadata": {},
   "outputs": [
    {
     "data": {
      "text/plain": [
       "Customer_ID            object\n",
       "Nama Pelanggan         object\n",
       "Jenis Kelamin          object\n",
       "Umur                    int64\n",
       "Profesi                object\n",
       "Tipe Residen           object\n",
       "NilaiBelanjaSetahun     int64\n",
       "dtype: object"
      ]
     },
     "execution_count": 31,
     "metadata": {},
     "output_type": "execute_result"
    }
   ],
   "source": [
    "customer_df.dtypes"
   ]
  },
  {
   "cell_type": "code",
   "execution_count": 32,
   "id": "47ad2e45",
   "metadata": {},
   "outputs": [
    {
     "name": "stdout",
     "output_type": "stream",
     "text": [
      "  Customer_ID    Nama Pelanggan Jenis Kelamin  Umur     Profesi Tipe Residen  \\\n",
      "0    CUST-001      Budi Anggara          Pria    58  Wiraswasta       Sector   \n",
      "1    CUST-002  Shirley Ratuwati        Wanita    14     Pelajar      Cluster   \n",
      "\n",
      "   NilaiBelanjaSetahun  \n",
      "0              9497927  \n",
      "1              2722700  \n",
      "\n",
      " Number of Columns and Rows:  (50, 7)\n"
     ]
    }
   ],
   "source": [
    "print(customer_df.head(2))\n",
    "print('\\n Number of Columns and Rows: ',customer_df.shape)"
   ]
  },
  {
   "cell_type": "markdown",
   "id": "89edb14b",
   "metadata": {},
   "source": [
    "### Data Exploration"
   ]
  },
  {
   "cell_type": "markdown",
   "id": "610d1a16",
   "metadata": {},
   "source": [
    "#### Eksplorasi Data Numeric "
   ]
  },
  {
   "cell_type": "code",
   "execution_count": 33,
   "id": "6486f7fa",
   "metadata": {},
   "outputs": [
    {
     "name": "stdout",
     "output_type": "stream",
     "text": [
      "  adjustable: {'box', 'datalim'}\n",
      "  agg_filter: a filter function, which takes a (m, n, 3) float array and a dpi value, and returns a (m, n, 3) array\n",
      "  alpha: float or None\n",
      "  anchor: 2-tuple of floats or {'C', 'SW', 'S', 'SE', ...}\n",
      "  animated: bool\n",
      "  aspect: {'auto'} or num\n",
      "  autoscale_on: bool\n",
      "  autoscalex_on: bool\n",
      "  autoscaley_on: bool\n",
      "  axes_locator: Callable[[Axes, Renderer], Bbox]\n",
      "  axisbelow: bool or 'line'\n",
      "  box_aspect: None, or a number\n",
      "  clip_box: `.Bbox`\n",
      "  clip_on: bool\n",
      "  clip_path: Patch or (Path, Transform) or None\n",
      "  contains: unknown\n",
      "  facecolor or fc: color\n",
      "  figure: `.Figure`\n",
      "  frame_on: bool\n",
      "  gid: str\n",
      "  in_layout: bool\n",
      "  label: object\n",
      "  navigate: bool\n",
      "  navigate_mode: unknown\n",
      "  path_effects: `.AbstractPathEffect`\n",
      "  picker: None or bool or callable\n",
      "  position: [left, bottom, width, height] or `~matplotlib.transforms.Bbox`\n",
      "  prop_cycle: unknown\n",
      "  rasterization_zorder: float or None\n",
      "  rasterized: bool or None\n",
      "  sketch_params: (scale: float, length: float, randomness: float)\n",
      "  snap: bool or None\n",
      "  subplotspec: unknown\n",
      "  title: str\n",
      "  transform: `.Transform`\n",
      "  url: str\n",
      "  visible: bool\n",
      "  xbound: unknown\n",
      "  xlabel: str\n",
      "  xlim: (bottom: float, top: float)\n",
      "  xmargin: float greater than -0.5\n",
      "  xscale: {\"linear\", \"log\", \"symlog\", \"logit\", ...}\n",
      "  xticklabels: unknown\n",
      "  xticks: unknown\n",
      "  ybound: unknown\n",
      "  ylabel: str\n",
      "  ylim: (bottom: float, top: float)\n",
      "  ymargin: float greater than -0.5\n",
      "  yscale: {\"linear\", \"log\", \"symlog\", \"logit\", ...}\n",
      "  yticklabels: unknown\n",
      "  yticks: unknown\n",
      "  zorder: float\n"
     ]
    },
    {
     "data": {
      "text/plain": [
       "<Figure size 432x288 with 0 Axes>"
      ]
     },
     "metadata": {},
     "output_type": "display_data"
    },
    {
     "data": {
      "image/png": "[encoded data removed]",
      "text/plain": [
       "<Figure size 720x648 with 4 Axes>"
      ]
     },
     "metadata": {},
     "output_type": "display_data"
    }
   ],
   "source": [
    "#Eksplorasi Data Numerik\n",
    "import matplotlib.pyplot as plt\n",
    "import seaborn as sns\n",
    "sns.set(style='white')\n",
    "plt.clf()\n",
    "\n",
    "#Create a plot\n",
    "def observasi_num(features):\n",
    "    fig, axs = plt.subplots(2, 2, figsize=(10, 9))\n",
    "    for i, kol in enumerate(features):\n",
    "        sns.boxplot(customer_df[kol], ax = axs[i][0])\n",
    "        sns.distplot(customer_df[kol], ax = axs[i][1])\n",
    "        axs[i][0].set_title('mean = %.2f\\n median = %.2f\\n std = %.2f'%(customer_df[kol].mean(), customer_df[kol].median(), customer_df[kol].std()))\n",
    "    plt.setp(axs)\n",
    "    plt.tight_layout()\n",
    "    plt.show()\n",
    "\n",
    "column_numerik = ['Umur','NilaiBelanjaSetahun']\n",
    "observasi_num(column_numerik)"
   ]
  },
  {
   "cell_type": "markdown",
   "id": "4e2d0024",
   "metadata": {},
   "source": [
    "#### Eksplorasi Data Kategorical"
   ]
  },
  {
   "cell_type": "code",
   "execution_count": 34,
   "id": "159c0c42",
   "metadata": {},
   "outputs": [
    {
     "name": "stdout",
     "output_type": "stream",
     "text": [
      "Test: 0\n",
      "Test: 1\n",
      "Test: 2\n"
     ]
    },
    {
     "data": {
      "text/plain": [
       "<Figure size 432x288 with 0 Axes>"
      ]
     },
     "metadata": {},
     "output_type": "display_data"
    },
    {
     "data": {
      "image/png": "[encoded data removed]",
      "text/plain": [
       "<Figure size 504x720 with 3 Axes>"
      ]
     },
     "metadata": {},
     "output_type": "display_data"
    }
   ],
   "source": [
    "#Eksplorasi Data Kategorical\n",
    "import matplotlib.pyplot as plt\n",
    "import seaborn as sns\n",
    "sns.set(style='white')\n",
    "plt.clf()\n",
    "\n",
    "column_categorical = ['Jenis Kelamin','Profesi','Tipe Residen']\n",
    "\n",
    "fig, axs = plt.subplots(3,1,figsize=(7,10))\n",
    "\n",
    "# Create a plot\n",
    "for i, kol in enumerate(column_categorical):\n",
    "    sns.countplot(customer_df[kol], order = customer_df[kol].value_counts().index, ax = axs[i])\n",
    "    print(\"Test:\", i)\n",
    "    axs[i].set_title('\\nCount Plot %s\\n'%(kol), fontsize=15)\n",
    "    for p in axs[i].patches:\n",
    "        axs[i].annotate(format(p.get_height(), '.0f'),(p.get_x() + p.get_width() / 2., p.get_height()),ha = 'center',va = 'center',xytext = (0, 10),textcoords = 'offset points')\n",
    "\n",
    "#Setting Plot\n",
    "sns.despine(right=True,top = True, left = True)\n",
    "axs[i].axes.yaxis.set_visible(False)\n",
    "plt.tight_layout()\n",
    "\n",
    "plt.show()"
   ]
  },
  {
   "cell_type": "markdown",
   "id": "fc34f56a",
   "metadata": {},
   "source": [
    "#### Conlusions\n",
    "From the results of the data exploration, we can get the following information:\n",
    "\n",
    "1. The average age of the customer is 37.5 years\n",
    "2. The average value of spending a year is 7,069,874.82\n",
    "3. The gender of the customer is dominated by 41 women (82%) and 9 men (18%)\n",
    "4. Most professions are Entrepreneurs (40%) followed by Professionals (36%) and others (24%) Of all customers, 64% of them live in clusters and 36% live in sectors"
   ]
  },
  {
   "cell_type": "markdown",
   "id": "f55bc24c",
   "metadata": {},
   "source": [
    "###  Data Preparation\n",
    "#### Column standarisation"
   ]
  },
  {
   "cell_type": "code",
   "execution_count": 35,
   "id": "1ab063cb",
   "metadata": {},
   "outputs": [
    {
     "name": "stdout",
     "output_type": "stream",
     "text": [
      "Statistik Before Standardisasi\n",
      "\n",
      "       Umur  NilaiBelanjaSetahun\n",
      "count  50.0                 50.0\n",
      "mean   37.5            7069874.8\n",
      "std    14.7            2590619.0\n",
      "min    14.0            2722700.0\n",
      "25%    25.0            5257529.8\n",
      "50%    35.0            5980077.0\n",
      "75%    49.8            9739615.0\n",
      "max    64.0           10884508.0\n",
      "Result of standardisasi\n",
      "\n",
      "       Umur  NilaiBelanjaSetahun\n",
      "0  1.411245             0.946763\n",
      "1 -1.617768            -1.695081\n",
      "2  0.722833            -0.695414\n",
      "3  1.067039            -0.727361\n",
      "4  0.240944             1.382421\n",
      "Statistik standardisasi\n",
      "\n",
      "       Umur  NilaiBelanjaSetahun\n",
      "count  50.0                 50.0\n",
      "mean    0.0                 -0.0\n",
      "std     1.0                  1.0\n",
      "min    -2.0                 -2.0\n",
      "25%    -1.0                 -1.0\n",
      "50%    -0.0                 -0.0\n",
      "75%     1.0                  1.0\n",
      "max     2.0                  1.0\n"
     ]
    }
   ],
   "source": [
    "# Column Numerik\n",
    "from sklearn.preprocessing import StandardScaler\n",
    "\n",
    "kolom_numerik = ['Umur','NilaiBelanjaSetahun']\n",
    "\n",
    "# Statistik Before Standardisasi\n",
    "print('Statistik Before Standardisasi\\n')\n",
    "print(customer_df[kolom_numerik ].describe().round(1))\n",
    "\n",
    "# Standardisasi\n",
    "df_std = StandardScaler().fit_transform(customer_df[kolom_numerik])\n",
    "\n",
    "df_std = pd.DataFrame(data=df_std, index=customer_df.index, columns=customer_df[kolom_numerik].columns)\n",
    "\n",
    "print('Result of standardisasi\\n')\n",
    "print(df_std.head())\n",
    "\n",
    "print('Statistik standardisasi\\n')\n",
    "print(df_std.describe().round(0))"
   ]
  },
  {
   "cell_type": "markdown",
   "id": "5470f2a4",
   "metadata": {},
   "source": [
    "<b>We can get information that : </b>\n",
    "<BR>After standardizing the mean and standard deviation of each variable to 0 and 1. This shows that our data is on the same scale."
   ]
  },
  {
   "cell_type": "markdown",
   "id": "4599332d",
   "metadata": {},
   "source": [
    "#### Categorical Conversion of Data with Label Encoderder"
   ]
  },
  {
   "cell_type": "code",
   "execution_count": 36,
   "id": "fc205ee6",
   "metadata": {},
   "outputs": [
    {
     "name": "stdout",
     "output_type": "stream",
     "text": [
      "Jenis Kelamin    object\n",
      "Profesi          object\n",
      "Tipe Residen     object\n",
      "dtype: object\n",
      "   Jenis Kelamin  Profesi  Tipe Residen\n",
      "0              0        4             1\n",
      "1              1        2             0\n",
      "2              0        3             0\n",
      "3              0        3             0\n",
      "4              1        4             0\n"
     ]
    }
   ],
   "source": [
    "# Konversi categorical Data with Label Encoder\n",
    "\n",
    "from sklearn.preprocessing import LabelEncoder\n",
    "# Inisiasi kolom categorical\n",
    "column_categorical = ['Jenis Kelamin','Profesi','Tipe Residen']\n",
    "df_encode = customer_df[column_categorical].copy()\n",
    "print(df_encode.dtypes)\n",
    "for col in column_categorical:\n",
    "    df_encode[col] = LabelEncoder().fit_transform(df_encode[col])\n",
    "\n",
    "print(df_encode.head())"
   ]
  },
  {
   "cell_type": "markdown",
   "id": "d16b703a",
   "metadata": {},
   "source": [
    "#### Combining Data for Modeling"
   ]
  },
  {
   "cell_type": "code",
   "execution_count": 37,
   "id": "5bf7b67b",
   "metadata": {},
   "outputs": [
    {
     "name": "stdout",
     "output_type": "stream",
     "text": [
      "   Jenis Kelamin  Profesi  Tipe Residen      Umur  NilaiBelanjaSetahun\n",
      "0              0        4             1  1.411245             0.946763\n",
      "1              1        2             0 -1.617768            -1.695081\n",
      "2              0        3             0  0.722833            -0.695414\n",
      "3              0        3             0  1.067039            -0.727361\n",
      "4              1        4             0  0.240944             1.382421\n"
     ]
    }
   ],
   "source": [
    "df_model = df_encode.merge(df_std, left_index = True, right_index=True, how = 'left')\n",
    "print (df_model.head())"
   ]
  },
  {
   "cell_type": "markdown",
   "id": "227aead7",
   "metadata": {},
   "source": [
    "### Modelling"
   ]
  },
  {
   "cell_type": "markdown",
   "id": "30835240",
   "metadata": {},
   "source": [
    "#### Finding the Optimal Number of Clusters"
   ]
  },
  {
   "cell_type": "code",
   "execution_count": 41,
   "id": "7245e1be",
   "metadata": {},
   "outputs": [
    {
     "data": {
      "image/png": "[encoded data removed]",
      "text/plain": [
       "<Figure size 432x288 with 1 Axes>"
      ]
     },
     "metadata": {},
     "output_type": "display_data"
    }
   ],
   "source": [
    "from kmodes.kmodes import KModes\n",
    "from kmodes.kprototypes import KPrototypes\n",
    "import pandas as pd\n",
    "import seaborn as sns\n",
    "import matplotlib.pyplot as plt\n",
    "\n",
    "# Doing Iteration to Get Cost . value\n",
    "cost = {}\n",
    "for k in range(2,10):\n",
    "    kproto = KPrototypes(n_clusters = k,random_state=75)\n",
    "    kproto.fit_predict(df_model, categorical=[0,1,2])\n",
    "    cost[k]= kproto.cost_\n",
    "\n",
    "sns.pointplot(x=list(cost.keys()), y=list(cost.values()))\n",
    "plt.show()"
   ]
  },
  {
   "cell_type": "markdown",
   "id": "1ad8f935",
   "metadata": {},
   "source": [
    "#### Create Model"
   ]
  },
  {
   "cell_type": "code",
   "execution_count": 42,
   "id": "55f2cdf3",
   "metadata": {},
   "outputs": [
    {
     "data": {
      "text/html": [
       "<div>\n",
       "<style scoped>\n",
       "    .dataframe tbody tr th:only-of-type {\n",
       "        vertical-align: middle;\n",
       "    }\n",
       "\n",
       "    .dataframe tbody tr th {\n",
       "        vertical-align: top;\n",
       "    }\n",
       "\n",
       "    .dataframe thead th {\n",
       "        text-align: right;\n",
       "    }\n",
       "</style>\n",
       "<table border=\"1\" class=\"dataframe\">\n",
       "  <thead>\n",
       "    <tr style=\"text-align: right;\">\n",
       "      <th></th>\n",
       "      <th>Jenis Kelamin</th>\n",
       "      <th>Profesi</th>\n",
       "      <th>Tipe Residen</th>\n",
       "      <th>Umur</th>\n",
       "      <th>NilaiBelanjaSetahun</th>\n",
       "    </tr>\n",
       "  </thead>\n",
       "  <tbody>\n",
       "    <tr>\n",
       "      <th>0</th>\n",
       "      <td>0</td>\n",
       "      <td>4</td>\n",
       "      <td>1</td>\n",
       "      <td>1.411245</td>\n",
       "      <td>0.946763</td>\n",
       "    </tr>\n",
       "    <tr>\n",
       "      <th>1</th>\n",
       "      <td>1</td>\n",
       "      <td>2</td>\n",
       "      <td>0</td>\n",
       "      <td>-1.617768</td>\n",
       "      <td>-1.695081</td>\n",
       "    </tr>\n",
       "  </tbody>\n",
       "</table>\n",
       "</div>"
      ],
      "text/plain": [
       "   Jenis Kelamin  Profesi  Tipe Residen      Umur  NilaiBelanjaSetahun\n",
       "0              0        4             1  1.411245             0.946763\n",
       "1              1        2             0 -1.617768            -1.695081"
      ]
     },
     "execution_count": 42,
     "metadata": {},
     "output_type": "execute_result"
    }
   ],
   "source": [
    "df_model.head(2)"
   ]
  },
  {
   "cell_type": "code",
   "execution_count": 43,
   "id": "853dcc88",
   "metadata": {},
   "outputs": [],
   "source": [
    "import pickle\n",
    "from kmodes.kmodes import KModes\n",
    "from kmodes.kprototypes import KPrototypes\n",
    "\n",
    "kproto = KPrototypes(n_clusters=5, random_state = 75)\n",
    "kproto = kproto.fit(df_model, categorical=[0,1,2])\n",
    "\n",
    "#Save Model\n",
    "pickle.dump(kproto, open('cluster.pkl', 'wb'))"
   ]
  },
  {
   "cell_type": "markdown",
   "id": "ab064511",
   "metadata": {},
   "source": [
    "#### Implementation Models"
   ]
  },
  {
   "cell_type": "code",
   "execution_count": 45,
   "id": "21d1597d",
   "metadata": {},
   "outputs": [
    {
     "name": "stdout",
     "output_type": "stream",
     "text": [
      "segment of each customer : [1 0 2 2 3 4 1 2 4 4 2 2 1 1 3 4 4 2 3 0 3 2 4 3 3 2 3 4 2 2 0 1 0 3 4 3 4\n",
      " 1 4 0 4 3 4 3 4 3 2 1 4 1]\n",
      "\n",
      "   Jenis Kelamin  Profesi  Tipe Residen      Umur  NilaiBelanjaSetahun  \\\n",
      "0              0        4             1  1.411245             0.946763   \n",
      "1              1        2             0 -1.617768            -1.695081   \n",
      "2              0        3             0  0.722833            -0.695414   \n",
      "3              0        3             0  1.067039            -0.727361   \n",
      "4              1        4             0  0.240944             1.382421   \n",
      "\n",
      "   cluster  \n",
      "0        1  \n",
      "1        0  \n",
      "2        2  \n",
      "3        2  \n",
      "4        3  \n"
     ]
    }
   ],
   "source": [
    "# Determine the segment of each customer\n",
    "clusters =  kproto.predict(df_model, categorical=[0,1,2])    \n",
    "print('segment of each customer : {}\\n'.format(clusters))    \n",
    "      \n",
    "df_final = df_model    \n",
    "df_final['cluster'] = clusters    \n",
    "print(df_final.head())"
   ]
  },
  {
   "cell_type": "markdown",
   "id": "0199e15f",
   "metadata": {},
   "source": [
    "#### Showing Clusters of Each Customer"
   ]
  },
  {
   "cell_type": "code",
   "execution_count": 46,
   "id": "d0a31d64",
   "metadata": {},
   "outputs": [
    {
     "name": "stdout",
     "output_type": "stream",
     "text": [
      "\n",
      " cluster: 0\n",
      "\n",
      "    Jenis Kelamin  Profesi  Tipe Residen      Umur  NilaiBelanjaSetahun  \\\n",
      "1               1        2             0 -1.617768            -1.695081   \n",
      "19              1        2             1 -1.480086            -1.627177   \n",
      "30              1        1             0 -1.273562            -1.570276   \n",
      "32              1        1             0 -1.273562            -1.568267   \n",
      "39              1        2             1 -1.617768            -1.640821   \n",
      "\n",
      "    cluster  \n",
      "1         0  \n",
      "19        0  \n",
      "30        0  \n",
      "32        0  \n",
      "39        0  \n",
      "\n",
      " cluster: 1\n",
      "\n",
      "    Jenis Kelamin  Profesi  Tipe Residen      Umur  NilaiBelanjaSetahun  \\\n",
      "0               0        4             1  1.411245             0.946763   \n",
      "6               0        4             1  1.824292             1.079078   \n",
      "12              1        4             0  1.824292             0.882519   \n",
      "13              0        4             0  1.548927             0.936504   \n",
      "31              1        4             1  0.653991             1.401127   \n",
      "37              1        4             1  0.585150             1.328580   \n",
      "47              1        4             1  0.516309             1.294892   \n",
      "49              1        4             1  1.204721             1.364527   \n",
      "\n",
      "    cluster  \n",
      "0         1  \n",
      "6         1  \n",
      "12        1  \n",
      "13        1  \n",
      "31        1  \n",
      "37        1  \n",
      "47        1  \n",
      "49        1  \n",
      "\n",
      " cluster: 2\n",
      "\n",
      "    Jenis Kelamin  Profesi  Tipe Residen      Umur  NilaiBelanjaSetahun  \\\n",
      "2               0        3             0  0.722833            -0.695414   \n",
      "3               0        3             0  1.067039            -0.727361   \n",
      "7               0        3             0  0.998198            -0.719925   \n",
      "10              1        3             1  0.860515            -0.422099   \n",
      "11              1        3             1  0.791674            -0.439822   \n",
      "17              1        0             0  1.755451            -0.674256   \n",
      "21              1        3             0  0.998198            -0.690841   \n",
      "25              1        3             0  1.204721            -0.702057   \n",
      "28              1        3             0  1.273562            -0.701101   \n",
      "29              1        0             1  0.585150            -0.798921   \n",
      "46              1        0             0  1.204721            -0.366200   \n",
      "\n",
      "    cluster  \n",
      "2         2  \n",
      "3         2  \n",
      "7         2  \n",
      "10        2  \n",
      "11        2  \n",
      "17        2  \n",
      "21        2  \n",
      "25        2  \n",
      "28        2  \n",
      "29        2  \n",
      "46        2  \n",
      "\n",
      " cluster: 3\n",
      "\n",
      "    Jenis Kelamin  Profesi  Tipe Residen      Umur  NilaiBelanjaSetahun  \\\n",
      "4               1        4             0  0.240944             1.382421   \n",
      "14              1        4             0 -1.204721             1.285119   \n",
      "18              1        4             0 -0.378627             1.487429   \n",
      "20              1        4             0  0.034421             0.839199   \n",
      "23              1        4             0  0.103262             1.243749   \n",
      "24              1        4             1 -0.585150             1.424062   \n",
      "26              1        4             0 -0.172103             0.797122   \n",
      "33              1        4             1 -1.135880             1.048883   \n",
      "35              1        4             0 -0.516309             1.017366   \n",
      "41              1        4             0 -0.791674             1.095981   \n",
      "43              1        4             0 -1.342404             0.885081   \n",
      "45              1        4             1 -0.860515             1.181453   \n",
      "\n",
      "    cluster  \n",
      "4         3  \n",
      "14        3  \n",
      "18        3  \n",
      "20        3  \n",
      "23        3  \n",
      "24        3  \n",
      "26        3  \n",
      "33        3  \n",
      "35        3  \n",
      "41        3  \n",
      "43        3  \n",
      "45        3  \n",
      "\n",
      " cluster: 4\n",
      "\n",
      "    Jenis Kelamin  Profesi  Tipe Residen      Umur  NilaiBelanjaSetahun  \\\n",
      "5               1        3             0 -0.929356            -0.723055   \n",
      "8               1        3             1 -0.585150            -0.419818   \n",
      "9               0        3             0 -0.309785            -0.706714   \n",
      "15              0        3             0 -0.172103            -0.704736   \n",
      "16              1        0             0 -0.378627            -0.542823   \n",
      "22              0        3             0 -0.240944            -0.713795   \n",
      "27              1        0             0  0.172103            -0.170864   \n",
      "34              1        3             1  0.103262            -0.431766   \n",
      "36              1        3             1 -0.860515            -0.427784   \n",
      "38              1        3             0 -1.204721            -0.706587   \n",
      "40              1        0             0 -0.929356            -0.097052   \n",
      "42              1        3             0 -0.447468            -0.702440   \n",
      "44              1        3             0 -1.067039            -0.724810   \n",
      "48              1        0             1 -0.309785            -0.809992   \n",
      "\n",
      "    cluster  \n",
      "5         4  \n",
      "8         4  \n",
      "9         4  \n",
      "15        4  \n",
      "16        4  \n",
      "22        4  \n",
      "27        4  \n",
      "34        4  \n",
      "36        4  \n",
      "38        4  \n",
      "40        4  \n",
      "42        4  \n",
      "44        4  \n",
      "48        4  \n"
     ]
    }
   ],
   "source": [
    "# Display customer data based on its cluster\n",
    "for i in range (0,5):\n",
    "    print('\\n cluster: {}\\n'.format(i))\n",
    "    print(df_final[df_final['cluster']== i])"
   ]
  },
  {
   "cell_type": "markdown",
   "id": "7860fbd9",
   "metadata": {},
   "source": [
    "#### Visualization of Clustering Results - Box Plot"
   ]
  },
  {
   "cell_type": "code",
   "execution_count": 48,
   "id": "abeecc39",
   "metadata": {},
   "outputs": [
    {
     "data": {
      "image/png": "[encoded data removed]",
      "text/plain": [
       "<Figure size 432x288 with 1 Axes>"
      ]
     },
     "metadata": {},
     "output_type": "display_data"
    },
    {
     "data": {
      "image/png": "[encoded data removed]",
      "text/plain": [
       "<Figure size 432x288 with 1 Axes>"
      ]
     },
     "metadata": {},
     "output_type": "display_data"
    }
   ],
   "source": [
    "import matplotlib.pyplot as plt\n",
    "# Data Numerical\n",
    "kolom_numerik = ['Umur','NilaiBelanjaSetahun']\n",
    "\n",
    "for i in kolom_numerik:\n",
    "    plt.figure(figsize=(6,4))\n",
    "    ax = sns.boxplot(x = 'cluster',y = i, data = df_final)\n",
    "    plt.title('\\nBox Plot {}\\n'.format(i), fontsize=12)\n",
    "    plt.show()"
   ]
  },
  {
   "cell_type": "markdown",
   "id": "10978f16",
   "metadata": {},
   "source": [
    "#### Visualization of Clustering Results - Count Plot"
   ]
  },
  {
   "cell_type": "code",
   "execution_count": 49,
   "id": "e53bc7ca",
   "metadata": {},
   "outputs": [
    {
     "data": {
      "image/png": "[encoded data removed]",
      "text/plain": [
       "<Figure size 432x288 with 1 Axes>"
      ]
     },
     "metadata": {},
     "output_type": "display_data"
    },
    {
     "data": {
      "image/png": "[encoded data removed]",
      "text/plain": [
       "<Figure size 432x288 with 1 Axes>"
      ]
     },
     "metadata": {},
     "output_type": "display_data"
    },
    {
     "data": {
      "image/png": "[encoded data removed]",
      "text/plain": [
       "<Figure size 432x288 with 1 Axes>"
      ]
     },
     "metadata": {},
     "output_type": "display_data"
    }
   ],
   "source": [
    "import matplotlib.pyplot as plt\n",
    "# Data Kategorikal\n",
    "kolom_categorical = ['Jenis Kelamin','Profesi','Tipe Residen']\n",
    "\n",
    "for i in kolom_categorical:\n",
    "    plt.figure(figsize=(6,4))\n",
    "    ax = sns.countplot(data = df_final, x = 'cluster', hue = i )\n",
    "    plt.title('\\nCount Plot {}\\n'.format(i), fontsize=12)\n",
    "    ax.legend(loc=\"upper center\")\n",
    "    for p in ax.patches:\n",
    "        ax.annotate(format(p.get_height(), '.0f'),\n",
    "        (p.get_x() + p.get_width() / 2., p.get_height()),\n",
    "        ha = 'center',\n",
    "        va = 'center',\n",
    "        xytext = (0, 10),\n",
    "        textcoords = 'offset points')\n",
    "\n",
    "    sns.despine(right=True,top = True, left = True)\n",
    "    ax.axes.yaxis.set_visible(False)\n",
    "    plt.show()"
   ]
  },
  {
   "cell_type": "markdown",
   "id": "0d657949",
   "metadata": {},
   "source": [
    "### Name the Cluster\n",
    "1. Cluster 0: Diamond Young Entrepreneur, the contents of this cluster are entrepreneurs who have an average transaction value of close to 10 million. In addition, the contents of this cluster have an age of about 18 - 41 years with an average of 29 years.\n",
    "2. Cluster 1: Diamond Senior Entrepreneur, the contents of this cluster are entrepreneurs who have an average transaction value of close to 10 million. The contents of this cluster have an age of about 45 - 64 years with an average of 55 years.\n",
    "3. Cluster 2: Silver Students, the contents of this cluster are students with an average age of 16 years and a yearly expenditure value of close to 3 million.\n",
    "4. Cluster 3: Gold Young Members, the contents of this cluster are young professionals and housewives with an age range of around 20 - 40 years and with an average of 30 years and the annual expenditure value is close to 6 million.\n",
    "5. Cluster 4: Gold Senior Members, the contents of this cluster are professionals and housewives who are old with an age range of 46 - 63 years and with an average of 53 years and the annual expenditure value is close to 6 million."
   ]
  },
  {
   "cell_type": "code",
   "execution_count": 50,
   "id": "b594255d",
   "metadata": {},
   "outputs": [
    {
     "name": "stdout",
     "output_type": "stream",
     "text": [
      "<class 'pandas.core.frame.DataFrame'>\n",
      "RangeIndex: 50 entries, 0 to 49\n",
      "Data columns (total 7 columns):\n",
      " #   Column               Non-Null Count  Dtype  \n",
      "---  ------               --------------  -----  \n",
      " 0   Jenis Kelamin        50 non-null     int32  \n",
      " 1   Profesi              50 non-null     int32  \n",
      " 2   Tipe Residen         50 non-null     int32  \n",
      " 3   Umur                 50 non-null     float64\n",
      " 4   NilaiBelanjaSetahun  50 non-null     float64\n",
      " 5   cluster              50 non-null     uint16 \n",
      " 6   segmen               50 non-null     object \n",
      "dtypes: float64(2), int32(3), object(1), uint16(1)\n",
      "memory usage: 2.0+ KB\n",
      "None\n",
      "   Jenis Kelamin  Profesi  Tipe Residen      Umur  NilaiBelanjaSetahun  \\\n",
      "0              0        4             1  1.411245             0.946763   \n",
      "1              1        2             0 -1.617768            -1.695081   \n",
      "2              0        3             0  0.722833            -0.695414   \n",
      "3              0        3             0  1.067039            -0.727361   \n",
      "4              1        4             0  0.240944             1.382421   \n",
      "\n",
      "   cluster                 segmen  \n",
      "0        1  Diamond Senior Member  \n",
      "1        0   Diamond Young Member  \n",
      "2        2          Silver Member  \n",
      "3        2          Silver Member  \n",
      "4        3      Gold Young Member  \n"
     ]
    }
   ],
   "source": [
    "# Mapping column name\n",
    "df_final['segmen'] = df_final['cluster'].map({\n",
    "    0: 'Diamond Young Member',\n",
    "    1: 'Diamond Senior Member',\n",
    "    2: 'Silver Member',\n",
    "    3: 'Gold Young Member',\n",
    "    4: 'Gold Senior Member'\n",
    "})\n",
    "\n",
    "print(df_final.info())\n",
    "print(df_final.head())"
   ]
  },
  {
   "cell_type": "markdown",
   "id": "7a4a29fe",
   "metadata": {},
   "source": [
    "### Deployment Model"
   ]
  },
  {
   "cell_type": "code",
   "execution_count": 51,
   "id": "102959ff",
   "metadata": {},
   "outputs": [
    {
     "name": "stdout",
     "output_type": "stream",
     "text": [
      "  Customer_ID Nama Pelanggan Jenis Kelamin  Umur     Profesi Tipe Residen  \\\n",
      "0    CUST-100           Joko          Pria    45  Wiraswasta      Cluster   \n",
      "\n",
      "   NilaiBelanjaSetahun  \n",
      "0              8230000  \n"
     ]
    }
   ],
   "source": [
    "# New Data\n",
    "data = [{\n",
    "    'Customer_ID': 'CUST-100' ,\n",
    "    'Nama Pelanggan': 'Joko' ,\n",
    "    'Jenis Kelamin': 'Pria',\n",
    "    'Umur': 45,\n",
    "    'Profesi': 'Wiraswasta',\n",
    "    'Tipe Residen': 'Cluster' ,\n",
    "    'NilaiBelanjaSetahun': 8230000\n",
    "\n",
    "}]\n",
    "\n",
    "# Create Data Frame\n",
    "new_df = pd.DataFrame(data)\n",
    "print(new_df)"
   ]
  },
  {
   "cell_type": "markdown",
   "id": "b473f8bb",
   "metadata": {},
   "source": [
    "#### Create a Function"
   ]
  },
  {
   "cell_type": "code",
   "execution_count": 52,
   "id": "39123edd",
   "metadata": {},
   "outputs": [
    {
     "name": "stdout",
     "output_type": "stream",
     "text": [
      "   Jenis Kelamin  Profesi  Tipe Residen      Umur  NilaiBelanjaSetahun\n",
      "0              0        4             0  0.510204             0.447818\n"
     ]
    }
   ],
   "source": [
    "def data_preprocess(data):\n",
    "    # Konversi Categorical data\n",
    "    kolom_kategorikal = ['Jenis Kelamin','Profesi','Tipe Residen']\n",
    "\n",
    "    df_encode = data[kolom_kategorikal].copy()\n",
    "\n",
    "    ## Sex\n",
    "    df_encode['Jenis Kelamin'] = df_encode['Jenis Kelamin'].map({\n",
    "    'Pria': 0,\n",
    "    'Wanita' : 1\n",
    "    })\n",
    "\n",
    "    ## Profesi\n",
    "    df_encode['Profesi'] = df_encode['Profesi'].map({\n",
    "    'Ibu Rumah Tangga': 0,\n",
    "    'Mahasiswa' : 1,\n",
    "    'Pelajar': 2,\n",
    "    'Professional': 3,\n",
    "    'Wiraswasta': 4\n",
    "    })\n",
    "\n",
    "    ## Tipe Residen\n",
    "    df_encode['Tipe Residen'] = df_encode['Tipe Residen'].map({\n",
    "    'Cluster': 0,\n",
    "    'Sector' : 1\n",
    "    })\n",
    "\n",
    "    # Standardisasi Numerical Data\n",
    "    kolom_numerik = ['Umur','NilaiBelanjaSetahun']\n",
    "    df_std = data[kolom_numerik].copy()\n",
    "\n",
    "    ## Standardisasi Column Umur\n",
    "    df_std['Umur'] = (df_std['Umur'] - 37.5)/14.7\n",
    "\n",
    "    ## Standardisasi Column Nilai Belanja Setahun\n",
    "    df_std['NilaiBelanjaSetahun'] = (df_std['NilaiBelanjaSetahun'] - 7069874.8)/2590619.0\n",
    "\n",
    "    # Combine Categorical and numerical data\n",
    "    df_model = df_encode.merge(df_std, left_index = True,\n",
    "    right_index=True, how = 'left')\n",
    "\n",
    "    return df_model\n",
    "\n",
    "# Running function\n",
    "new_df_model = data_preprocess(new_df)\n",
    "\n",
    "print(new_df_model)"
   ]
  },
  {
   "cell_type": "code",
   "execution_count": 53,
   "id": "b92acb02",
   "metadata": {},
   "outputs": [
    {
     "name": "stdout",
     "output_type": "stream",
     "text": [
      "[1]\n"
     ]
    }
   ],
   "source": [
    "def modelling (data):\n",
    "    kpoto = pickle.load(open('cluster.pkl', 'rb'))\n",
    "    clusters = kpoto.predict(data,categorical=[0,1,2])\n",
    "    return clusters\n",
    "\n",
    "clusters = modelling(new_df_model)\n",
    "\n",
    "print(clusters)"
   ]
  },
  {
   "cell_type": "code",
   "execution_count": 55,
   "id": "6423da17",
   "metadata": {},
   "outputs": [
    {
     "name": "stdout",
     "output_type": "stream",
     "text": [
      "  Customer_ID Nama Pelanggan Jenis Kelamin  Umur     Profesi Tipe Residen  \\\n",
      "0    CUST-100           Joko          Pria    45  Wiraswasta      Cluster   \n",
      "\n",
      "   NilaiBelanjaSetahun  cluster                 segmen  \n",
      "0              8230000        1  Diamond Senior Member  \n"
     ]
    }
   ],
   "source": [
    "def menamakan_segmen (data_asli, clusters):\n",
    "\n",
    "    # Combine cluster and first data\n",
    "    final_df = data_asli.copy()\n",
    "    final_df['cluster'] = clusters\n",
    "\n",
    "    # Name segmen\n",
    "    final_df['segmen'] = final_df['cluster'].map({\n",
    "    0: 'Diamond Young Member',\n",
    "    1: 'Diamond Senior Member',\n",
    "    2: 'Silver Students',\n",
    "    3: 'Gold Young Member',\n",
    "    4: 'Gold Senior Member'\n",
    "    })\n",
    "\n",
    "    return final_df\n",
    "\n",
    "new_final_df = menamakan_segmen(new_df,clusters)\n",
    "\n",
    "print(new_final_df)"
   ]
  }
 ],
 "metadata": {
  "kernelspec": {
   "display_name": "Python 3",
   "language": "python",
   "name": "python3"
  },
  "language_info": {
   "codemirror_mode": {
    "name": "ipython",
    "version": 3
   },
   "file_extension": ".py",
   "mimetype": "text/x-python",
   "name": "python",
   "nbconvert_exporter": "python",
   "pygments_lexer": "ipython3",
   "version": "3.8.8"
  }
 },
 "nbformat": 4,
 "nbformat_minor": 5
}
